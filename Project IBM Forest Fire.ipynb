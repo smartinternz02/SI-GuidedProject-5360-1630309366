{
 "cells": [
  {
   "cell_type": "code",
   "execution_count": 2,
   "metadata": {},
   "outputs": [],
   "source": [
    "import keras"
   ]
  },
  {
   "cell_type": "code",
   "execution_count": 3,
   "metadata": {},
   "outputs": [],
   "source": [
    "from keras.preprocessing.image import ImageDataGenerator"
   ]
  },
  {
   "cell_type": "code",
   "execution_count": 4,
   "metadata": {},
   "outputs": [],
   "source": [
    "\n",
    "\n",
    "train_datagen=ImageDataGenerator(rescale=1./255,shear_range=0.2,rotation_range=180,zoom_range=0.2,horizontal_flip=True)\n"
   ]
  },
  {
   "cell_type": "code",
   "execution_count": 5,
   "metadata": {},
   "outputs": [],
   "source": [
    "\n",
    "test_datagen=ImageDataGenerator(rescale=1./255)\n",
    "\n"
   ]
  },
  {
   "cell_type": "code",
   "execution_count": 6,
   "metadata": {},
   "outputs": [
    {
     "name": "stdout",
     "output_type": "stream",
     "text": [
      "Found 460 images belonging to 2 classes.\n"
     ]
    }
   ],
   "source": [
    "\n",
    "x_train=train_datagen.flow_from_directory(r\"C:\\Users\\User\\Videos\\train_set\",target_size=(128,128),\n",
    "                                        batch_size=32,class_mode='binary')\n",
    "                                        \n",
    "                                       "
   ]
  },
  {
   "cell_type": "code",
   "execution_count": 7,
   "metadata": {},
   "outputs": [
    {
     "name": "stdout",
     "output_type": "stream",
     "text": [
      "Found 121 images belonging to 2 classes.\n"
     ]
    }
   ],
   "source": [
    "\n",
    "\n",
    "x_test=test_datagen.flow_from_directory(r\"C:\\Users\\User\\Videos\\test_set\",target_size=(128,128),\n",
    "                                        batch_size=32,class_mode='binary')\n",
    "                                        "
   ]
  },
  {
   "cell_type": "code",
   "execution_count": 8,
   "metadata": {},
   "outputs": [],
   "source": [
    "\n",
    "from keras.models import Sequential"
   ]
  },
  {
   "cell_type": "code",
   "execution_count": 9,
   "metadata": {},
   "outputs": [],
   "source": [
    "\n",
    "\n",
    "\n",
    "from keras.layers import Dense"
   ]
  },
  {
   "cell_type": "code",
   "execution_count": 10,
   "metadata": {},
   "outputs": [],
   "source": [
    "from keras.layers import Convolution2D\n"
   ]
  },
  {
   "cell_type": "code",
   "execution_count": 11,
   "metadata": {},
   "outputs": [],
   "source": [
    "from keras.layers import MaxPooling2D"
   ]
  },
  {
   "cell_type": "code",
   "execution_count": 12,
   "metadata": {},
   "outputs": [],
   "source": [
    "from keras.layers import Flatten"
   ]
  },
  {
   "cell_type": "code",
   "execution_count": 13,
   "metadata": {},
   "outputs": [],
   "source": [
    "model=Sequential()"
   ]
  },
  {
   "cell_type": "markdown",
   "metadata": {},
   "source": [
    "model.add(Convolution2D(32,(3,3),input_size=128,128,3),activation='relu'))"
   ]
  },
  {
   "cell_type": "code",
   "execution_count": 14,
   "metadata": {},
   "outputs": [],
   "source": [
    "\n",
    "model.add(Convolution2D(32,(3,3),input_shape=(128,128,3),activation='relu'))"
   ]
  },
  {
   "cell_type": "code",
   "execution_count": 15,
   "metadata": {},
   "outputs": [],
   "source": [
    "model.add(MaxPooling2D(pool_size=(2,2)))"
   ]
  },
  {
   "cell_type": "code",
   "execution_count": 16,
   "metadata": {},
   "outputs": [],
   "source": [
    "model.add(Flatten())"
   ]
  },
  {
   "cell_type": "code",
   "execution_count": 25,
   "metadata": {},
   "outputs": [],
   "source": [
    "model.add(Dense(units=150,kernel_initializer='uniform',activation='relu'))"
   ]
  },
  {
   "cell_type": "code",
   "execution_count": 30,
   "metadata": {},
   "outputs": [],
   "source": [
    "\n",
    "model.add(Dense(units=1,activation='sigmoid',kernel_initializer='uniform'))"
   ]
  },
  {
   "cell_type": "code",
   "execution_count": 31,
   "metadata": {},
   "outputs": [],
   "source": [
    "model.compile(loss='binary_crossentropy',optimizer='adam',metrics= [\"accuracy\"])"
   ]
  },
  {
   "cell_type": "code",
   "execution_count": 32,
   "metadata": {},
   "outputs": [
    {
     "name": "stderr",
     "output_type": "stream",
     "text": [
      "C:\\Users\\User\\Anaconda3\\lib\\site-packages\\keras\\engine\\training.py:1972: UserWarning: `Model.fit_generator` is deprecated and will be removed in a future version. Please use `Model.fit`, which supports generators.\n",
      "  warnings.warn('`Model.fit_generator` is deprecated and '\n"
     ]
    },
    {
     "name": "stdout",
     "output_type": "stream",
     "text": [
      "Epoch 1/20\n",
      "5/5 [==============================] - ETA: 0s - loss: 1.2021 - accuracy: 0.5857WARNING:tensorflow:Your input ran out of data; interrupting training. Make sure that your dataset or generator can generate at least `steps_per_epoch * epochs` batches (in this case, 5 batches). You may need to use the repeat() function when building your dataset.\n",
      "5/5 [==============================] - 37s 6s/step - loss: 1.2021 - accuracy: 0.5857 - val_loss: 1.1634 - val_accuracy: 0.6364\n",
      "Epoch 2/20\n",
      "5/5 [==============================] - 11s 2s/step - loss: 0.6525 - accuracy: 0.7429\n",
      "Epoch 3/20\n",
      "5/5 [==============================] - 19s 4s/step - loss: 0.3105 - accuracy: 0.8500\n",
      "Epoch 4/20\n",
      "5/5 [==============================] - 12s 3s/step - loss: 0.2313 - accuracy: 0.9000\n",
      "Epoch 5/20\n",
      "5/5 [==============================] - 12s 2s/step - loss: 0.2084 - accuracy: 0.8687\n",
      "Epoch 6/20\n",
      "5/5 [==============================] - 11s 2s/step - loss: 0.2385 - accuracy: 0.8813\n",
      "Epoch 7/20\n",
      "5/5 [==============================] - 10s 2s/step - loss: 0.2430 - accuracy: 0.8813\n",
      "Epoch 8/20\n",
      "5/5 [==============================] - 14s 3s/step - loss: 0.1940 - accuracy: 0.9062\n",
      "Epoch 9/20\n",
      "5/5 [==============================] - 11s 2s/step - loss: 0.1529 - accuracy: 0.9375\n",
      "Epoch 10/20\n",
      "5/5 [==============================] - 12s 3s/step - loss: 0.1918 - accuracy: 0.9143\n",
      "Epoch 11/20\n",
      "5/5 [==============================] - 8s 1s/step - loss: 0.1378 - accuracy: 0.9429\n",
      "Epoch 12/20\n",
      "5/5 [==============================] - 12s 2s/step - loss: 0.1958 - accuracy: 0.9375\n",
      "Epoch 13/20\n",
      "5/5 [==============================] - 10s 2s/step - loss: 0.2279 - accuracy: 0.9125\n",
      "Epoch 14/20\n",
      "5/5 [==============================] - 12s 2s/step - loss: 0.2784 - accuracy: 0.8875\n",
      "Epoch 15/20\n",
      "5/5 [==============================] - 10s 2s/step - loss: 0.2738 - accuracy: 0.8714\n",
      "Epoch 16/20\n",
      "5/5 [==============================] - 11s 2s/step - loss: 0.2084 - accuracy: 0.9125\n",
      "Epoch 17/20\n",
      "5/5 [==============================] - 13s 3s/step - loss: 0.1407 - accuracy: 0.9375\n",
      "Epoch 18/20\n",
      "5/5 [==============================] - 12s 2s/step - loss: 0.1698 - accuracy: 0.9312\n",
      "Epoch 19/20\n",
      "5/5 [==============================] - 12s 2s/step - loss: 0.1968 - accuracy: 0.9187\n",
      "Epoch 20/20\n",
      "5/5 [==============================] - 13s 2s/step - loss: 0.2131 - accuracy: 0.9187\n"
     ]
    },
    {
     "data": {
      "text/plain": [
       "<keras.callbacks.History at 0x2fcf2630>"
      ]
     },
     "execution_count": 32,
     "metadata": {},
     "output_type": "execute_result"
    }
   ],
   "source": [
    "model.fit_generator(x_train,steps_per_epoch=5,epochs=20,validation_data=x_test,validation_steps=5)"
   ]
  },
  {
   "cell_type": "code",
   "execution_count": 33,
   "metadata": {},
   "outputs": [],
   "source": [
    "model.save('ForestFire.h5')"
   ]
  },
  {
   "cell_type": "code",
   "execution_count": null,
   "metadata": {},
   "outputs": [],
   "source": []
  },
  {
   "cell_type": "code",
   "execution_count": null,
   "metadata": {},
   "outputs": [],
   "source": []
  }
 ],
 "metadata": {
  "kernelspec": {
   "display_name": "Python 3",
   "language": "python",
   "name": "python3"
  },
  "language_info": {
   "codemirror_mode": {
    "name": "ipython",
    "version": 3
   },
   "file_extension": ".py",
   "mimetype": "text/x-python",
   "name": "python",
   "nbconvert_exporter": "python",
   "pygments_lexer": "ipython3",
   "version": "3.7.3"
  }
 },
 "nbformat": 4,
 "nbformat_minor": 2
}
